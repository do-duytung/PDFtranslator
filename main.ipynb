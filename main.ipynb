{
 "cells": [
  {
   "cell_type": "code",
   "execution_count": 8,
   "metadata": {},
   "outputs": [
    {
     "name": "stdout",
     "output_type": "stream",
     "text": [
      "173\n",
      "3.6. Measurement of Absorption Coefﬁcients3.7. Microphysical Properties Affecting MAC ando\n",
      "0\n",
      "3.7.1. Optical Models and Required Inputs3.7.2. Density3.7.3. Refractive Index3.7.4. Particle Size3.7.5. Conﬁguration of BC-Containing Particles3.8. Measured and Modeled MAC ando\n",
      "0\n",
      "3.8.1. MAC BCDerived From Measurements3.8.2. Microphysical Model Ability to SimulateMAC3.8.2.1. MAC\n",
      "BCof Unmixed BC3.8.2.2. MAC of BC Mixed With Other Substances3.8.3. Measured and Modeled Single-ScatteringAlbedo3.8.4. Aerosol Properties in Global Models3.9. CCN Activity of Black Carbon3.9.1. Measurements of CCN Activity3.9.2. Global Model Treatment of CCN Activity4. Emission Magnitudes and Source Categories4.1. Section Summary4.2. Introduction4.2.1. Geographic Aggregation4.2.2. Deﬁnitions and Aggregation of EmissionSources4.3. Bottom-Up Inventory Procedures4.3.1. Energy-Related Emissions4.3.2. Open Burning Emissions4.3.3. Waste Burning Emissions4.4. Total BC Emissions and Major Source Categories4.4.1. Diesel Engines4.4.2. Industrial Coal4.4.3. Residential Solid Fuels4.4.4. Open Burning4.4.5. Other Emission Sources4.5. Regional Emissions4.6. Comparison Among Energy-Related EmissionEstimates4.6.1. Differences in Power Generation Emissions4.6.2. Differences in Industrial Coal Emissions4.6.3. Differences in Diesel Engine Emissions4.6.4. Differences in Residential Solid Fuel Sector4.6.5. Asian Emission Inventories4.7. Major Sources of Uncertainty in Emissions4.7.1. Energy-Related Combustion4.7.1.1. Activity Data4.7.1.2. Emission Factors4.7.1.3. Summary of Uncertainties in Energy-RelatedEmissions4.7.2. Open Biomass Burning4.7.2.1. Burned Area4.7.2.2. Fuel Load and Combustion Completeness4.7.2.3. Emission Factors4.7.2.4. Summary of Uncertainties in Open BurningEmissions4.8. Trends in BC Emissions4.9. Receptor Modeling to Evaluate Source Contributions4.9.1. Receptor Modeling in Urban Areas4.9.2. Receptor Modeling in Continental Plumes4.9.3. Summary of Findings From ReceptorModeling5. Constraints on Black-Carbon Atmospheric Abundance5.1. Section Summary5.2. Introduction5.3. Atmospheric Absorption and Extinction byAbsorbing Species5.4. Observations of Atmospheric Black CarbonConcentrations5.4.1. In Situ Monitoring5.4.1.1. Intensive Field Campaigns5.4.1.2. Long-Term In Situ Monitoring5.4.2. Remote Sensing5.4.2.1. Ground-Based Remote Sensing5.4.2.2. Remote Sensing From Space5.5. Comparison Between Modeled and Observed BCConcentrations and AAOD5.5.1. Estimating Emissions by Integrating Modelsand Observations5.6. Vertical Distribution of BC5.6.1. Comparison Between Modeled and ObservedVertical Distributions5.7. Causes of Model Biases5.8. Summary of Limitations in Inferring Black CarbonAtmospheric Abundance6. Black-Carbon Direct Radiative Forcing6.1. Section Summary6.2. Introduction6.3. Emission, Lifetime, and Burden6.4. Mass Absorption Cross Section6.5. Scaling Modeled BC AAOD to Observations6.5.1. Sensitivities in AAOD Scaling6.5.2. Reasons for Low Bias in Modeled AAOD6.6. Forcing Efﬁciency6.6.1. Vertical Location of BC6.6.2. Horizontal Location of BC6.7. All-Source and Industrial-Era BC DRF6.7.1. Scaled Estimates of BC DRF6.7.2. Central Estimate of BC DRF6.7.3. Uncertainties in BC DRF6.8. Previous Observationally Scaled Radiative-ForcingEstimates6.9. Implications of Increased BC AAOD6.9.1. Apportionment of Bias in BC AAOD6.9.2. Revised Estimate of BC Emissions6.9.3. Scaling of Modeled AAOD in the Context ofOther Evidence6.10. Summary of Uncertainties in BC DRF7. Black Carbon Interactions With Clouds7.1. Section Summary7.2. Introduction7.3. Black-Carbon Semi-Direct Effects on Cloud Cover7.3.1. Cloud Scale and Regional StudiesBOND ET AL.: BLACK CARBON IN THE CLIMATE SYSTEM\n",
      "5382\n",
      " 21698996, 2013, 11, Downloaded from https://agupubs.onlinelibrary.wiley.com/doi/10.1002/jgrd.50171 by Cochrane Japan, Wiley Online Library on [12/04/2023]. See the Terms and Conditions (https://onlinelibrary.wiley.com/terms-and-conditions) on Wiley Online Library for rules of use; OA articles are governed by the applicable Creative Commons License\n",
      "\n"
     ]
    }
   ],
   "source": [
    "# importing required modules\n",
    "from PyPDF2 import PdfReader\n",
    "import translators as ts\n",
    "  \n",
    "# creating a pdf reader object\n",
    "reader = PdfReader('bond.pdf')\n",
    "  \n",
    "# printing number of pages in pdf file\n",
    "print(len(reader.pages))\n",
    "  \n",
    "# getting a specific page from the pdf file\n",
    "page = reader.pages[2]\n",
    "  \n",
    "# extracting text from page\n",
    "text = page.extractText()\n",
    "# trans = ts.translate_text(query_text=text, translator='google', from_language='en', to_language='vi')\n",
    "print(text)"
   ]
  }
 ],
 "metadata": {
  "kernelspec": {
   "display_name": "base",
   "language": "python",
   "name": "python3"
  },
  "language_info": {
   "codemirror_mode": {
    "name": "ipython",
    "version": 3
   },
   "file_extension": ".py",
   "mimetype": "text/x-python",
   "name": "python",
   "nbconvert_exporter": "python",
   "pygments_lexer": "ipython3",
   "version": "3.10.11"
  },
  "orig_nbformat": 4
 },
 "nbformat": 4,
 "nbformat_minor": 2
}
